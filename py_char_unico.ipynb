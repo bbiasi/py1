{
  "nbformat": 4,
  "nbformat_minor": 0,
  "metadata": {
    "colab": {
      "private_outputs": true,
      "provenance": [],
      "authorship_tag": "ABX9TyOtQqHBVbwdtz5D3HB95BQZ",
      "include_colab_link": true
    },
    "kernelspec": {
      "name": "python3",
      "display_name": "Python 3"
    },
    "language_info": {
      "name": "python"
    }
  },
  "cells": [
    {
      "cell_type": "markdown",
      "metadata": {
        "id": "view-in-github",
        "colab_type": "text"
      },
      "source": [
        "<a href=\"https://colab.research.google.com/github/bbiasi/py1/blob/main/py_char_unico.ipynb\" target=\"_parent\"><img src=\"https://colab.research.google.com/assets/colab-badge.svg\" alt=\"Open In Colab\"/></a>"
      ]
    },
    {
      "cell_type": "markdown",
      "source": [
        "Objetivo\n",
        "Dada uma string composta apenas por letras minúsculas do inglês (a-z), você precisa:\n",
        "\n",
        "Identificar todos os caracteres únicos na string\n",
        "\n",
        "Retornar a posição do primeiro caractere único encontrado\n",
        "\n",
        "Usar indexação 1-based (o primeiro caractere está na posição 1)\n",
        "\n",
        "Se não houver caracteres únicos, retornar -1\n",
        "\n"
      ],
      "metadata": {
        "id": "pWqNETNQJpSS"
      }
    },
    {
      "cell_type": "markdown",
      "source": [
        "Exemplos Ilustrativos\n",
        "Exemplo 1:\n",
        "String: \"statistics\"\n",
        "Análise:\n",
        "\n",
        "s → aparece 3 vezes\n",
        "\n",
        "t → aparece 3 vezes\n",
        "\n",
        "a → aparece 1 vez (único)\n",
        "\n",
        "i → aparece 2 vezes\n",
        "\n",
        "c → aparece 1 vez (único)\n",
        "Resultado: 3 (posição do 'a')\n",
        "\n",
        "Exemplo 2:\n",
        "String: \"hackthegame\"\n",
        "Análise:\n",
        "\n",
        "h → aparece 2 vezes\n",
        "\n",
        "a → aparece 2 vezes\n",
        "\n",
        "c → aparece 1 vez (único) ← primeiro único\n",
        "\n",
        "k → aparece 1 vez\n",
        "\n",
        "t → aparece 1 vez\n",
        "\n",
        "g → aparece 1 vez\n",
        "\n",
        "m → aparece 1 vez\n",
        "Resultado: 3 (posição do 'c')\n",
        "\n",
        "Exemplo 3:\n",
        "String: \"falafal\"\n",
        "Análise:\n",
        "\n",
        "Todos os caracteres se repetem\n",
        "Resultado: -1"
      ],
      "metadata": {
        "id": "hVEJTHU8J5Df"
      }
    },
    {
      "cell_type": "code",
      "execution_count": null,
      "metadata": {
        "id": "5YE4hSt4Izxk"
      },
      "outputs": [],
      "source": [
        "def getUniqueCharacter(s):\n",
        "    # frequência dos caracteres (apenas letras)\n",
        "    freq = {}\n",
        "\n",
        "    # Primeiro passada: contar letras (convertendo para minúsculas)\n",
        "    for char in s:\n",
        "        if char.isalpha():  # Considera apenas caracteres alfabéticos\n",
        "            lower_char = char.lower()\n",
        "            freq[lower_char] = freq.get(lower_char, 0) + 1\n",
        "\n",
        "    # Segunda passada: encontrar o primeiro caractere único\n",
        "    for i, char in enumerate(s, start=1):  # start=1 para 1-based index\n",
        "        if char.isalpha():\n",
        "            lower_char = char.lower()\n",
        "            if freq[lower_char] == 1:\n",
        "                return i\n",
        "\n",
        "    # Se nenhum caractere único for encontrado\n",
        "    return -1\n"
      ]
    },
    {
      "cell_type": "code",
      "source": [
        "if __name__ == '__main__':\n",
        "    s = input().strip()\n",
        "    print(getUniqueCharacter(s))"
      ],
      "metadata": {
        "id": "n2jLfXkUJ-st"
      },
      "execution_count": null,
      "outputs": []
    }
  ]
}