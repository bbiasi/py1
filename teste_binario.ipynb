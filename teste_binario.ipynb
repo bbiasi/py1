{
  "nbformat": 4,
  "nbformat_minor": 0,
  "metadata": {
    "colab": {
      "private_outputs": true,
      "provenance": [],
      "toc_visible": true,
      "authorship_tag": "ABX9TyO0aiE16SPRpziOa+fGCGw/",
      "include_colab_link": true
    },
    "kernelspec": {
      "name": "python3",
      "display_name": "Python 3"
    },
    "language_info": {
      "name": "python"
    }
  },
  "cells": [
    {
      "cell_type": "markdown",
      "metadata": {
        "id": "view-in-github",
        "colab_type": "text"
      },
      "source": [
        "<a href=\"https://colab.research.google.com/github/bbiasi/py1/blob/main/teste_binario.ipynb\" target=\"_parent\"><img src=\"https://colab.research.google.com/assets/colab-badge.svg\" alt=\"Open In Colab\"/></a>"
      ]
    },
    {
      "cell_type": "markdown",
      "source": [
        "Objetivo: Dado um número inteiro n, precisamos:\n",
        "\n",
        "Contar quantos bits 1 existem em sua representação binária\n",
        "\n",
        "Identificar as posições desses bits 1, da esquerda para a direita, começando a contar da posição 1\n",
        "\n",
        "Exemplo com n = 37:\n",
        "\n",
        "Binário de 37: 100101 (6 bits)\n",
        "\n",
        "Posições dos 1s:\n",
        "\n",
        "1ª posição: 1\n",
        "\n",
        "4ª posição: 1\n",
        "\n",
        "6ª posição: 1\n",
        "\n",
        "Resultado esperado: [3, 1, 4, 6] (3 bits 1 nas posições 1, 4 e 6)"
      ],
      "metadata": {
        "id": "nDYMpcnBi9oy"
      }
    },
    {
      "cell_type": "code",
      "source": [
        "#!/bin/python3\n",
        "\n",
        "import math\n",
        "import os\n",
        "import random\n",
        "import re\n",
        "import sys\n",
        "\n",
        "\n",
        "def getOneBits(n):\n",
        "    # Garantir que n é um número inteiro positivo\n",
        "    if not isinstance(n, int) or n < 0:\n",
        "        return None\n",
        "\n",
        "    binario = bin(n)[2:]  # Remove o prefixo '0b'\n",
        "    total_uns = 0\n",
        "    posicoes = []\n",
        "\n",
        "    for posicao, bit in enumerate(binario, start=1):\n",
        "        if bit == '1':\n",
        "            total_uns += 1\n",
        "            posicoes.append(posicao)\n",
        "\n",
        "    return [total_uns] + posicoes"
      ],
      "metadata": {
        "id": "kxqGSpvui-Kc"
      },
      "execution_count": null,
      "outputs": []
    },
    {
      "cell_type": "code",
      "source": [
        "def testar_casos():\n",
        "    testes = {\n",
        "        37: [3, 1, 4, 6],\n",
        "        161: [3, 1, 3, 8],\n",
        "        0: [0],\n",
        "        1: [1, 1],\n",
        "        255: [8, 1, 2, 3, 4, 5, 6, 7, 8],\n",
        "        10: [2, 1, 3],\n",
        "        390: [4, 1, 2, 7, 8]  # Corrigido para 110000110\n",
        "    }\n",
        "\n",
        "    for entrada, esperado in testes.items():\n",
        "        resultado = getOneBits(entrada)\n",
        "        assert resultado == esperado, f\"Erro no teste {entrada}. Esperado: {esperado}, Obtido: {resultado}\"\n",
        "        print(f\"Teste {entrada}: OK → {resultado}\")\n",
        "\n",
        "if __name__ == '__main__':\n",
        "    while True:\n",
        "        print(\"\\n1. Testes automáticos\")\n",
        "        print(\"2. Entrada manual\")\n",
        "        print(\"3. Sair\")\n",
        "        opcao = input(\"Escolha: \")\n",
        "\n",
        "        if opcao == \"1\":\n",
        "            testar_casos()\n",
        "        elif opcao == \"2\":\n",
        "            try:\n",
        "                numero = int(input(\"Digite um número: \"))\n",
        "                resposta = getOneBits(numero)\n",
        "                if resposta is None:\n",
        "                    print(\"Erro: Número inválido. Digite um inteiro positivo.\")\n",
        "                else:\n",
        "                    print(\"Resultado:\")\n",
        "                    for item in resposta:\n",
        "                        print(item)\n",
        "            except ValueError:\n",
        "                print(\"Por favor, digite um número válido!\")\n",
        "        elif opcao == \"3\":\n",
        "            break\n",
        "        else:\n",
        "            print(\"Opção inválida. Digite 1, 2 ou 3\")"
      ],
      "metadata": {
        "id": "XGgdggngjCN3"
      },
      "execution_count": null,
      "outputs": []
    },
    {
      "cell_type": "markdown",
      "source": [
        "Modelo final do teste"
      ],
      "metadata": {
        "id": "Gv-b1sx1mbB5"
      }
    },
    {
      "cell_type": "code",
      "source": [
        "if __name__ == '__main__':\n",
        "    # verificacao\n",
        "    if 'OUTPUT_PATH' in os.environ:\n",
        "        with open(os.environ['OUTPUT_PATH'], 'w') as fptr:\n",
        "            n = int(input().strip())\n",
        "            result = getOneBits(n)\n",
        "            fptr.write('\\n'.join(map(str, result)) + '\\n')\n",
        "    else:\n",
        "        # Modo local de teste\n",
        "        n = int(input(\"Digite um número: \").strip())\n",
        "        result = getOneBits(n)\n",
        "        print('\\n'.join(map(str, result)))"
      ],
      "metadata": {
        "id": "26sM-t5PmdJH"
      },
      "execution_count": null,
      "outputs": []
    }
  ]
}